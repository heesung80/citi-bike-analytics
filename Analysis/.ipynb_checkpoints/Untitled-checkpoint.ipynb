{
 "cells": [
  {
   "cell_type": "markdown",
   "metadata": {},
   "source": [
    "# New York Citi Bike Statistics & Facts For 2019"
   ]
  },
  {
   "cell_type": "markdown",
   "metadata": {},
   "source": [
    "In this project, I analyzed the data for 2019 to help city officials promote and improve city programs."
   ]
  },
  {
   "cell_type": "markdown",
   "metadata": {},
   "source": [
    "## Findings 1 \n",
    "### The Change in the Number of Citi Bike Users by Time Change"
   ]
  },
  {
   "cell_type": "markdown",
   "metadata": {},
   "source": [
    "![](1.png)"
   ]
  },
  {
   "cell_type": "markdown",
   "metadata": {},
   "source": [
    "In 2019, major citi bike riders increased in summer and fall, while numbers decreased in spring and winter. By time, the number of users during rush hour is the highest, and the number of users on weekdays is higher than on weekends, so it seems that many people use citi bikes when commuting to and from work."
   ]
  },
  {
   "cell_type": "markdown",
   "metadata": {},
   "source": [
    "&nbsp;"
   ]
  },
  {
   "cell_type": "markdown",
   "metadata": {},
   "source": [
    "## Findings 2\n",
    "### Bike Trip Duration by Gender, Time, User Type, and Age"
   ]
  },
  {
   "cell_type": "markdown",
   "metadata": {},
   "source": [
    "![](2.png)"
   ]
  },
  {
   "cell_type": "markdown",
   "metadata": {},
   "source": [
    "According to the data, trip duration was not completely related to the number of bike users. Unlike the bike user graph, June had the second highest trip duration of the year. For the total trip duration, the subscribers accounted for 64 percent, while the customers accounted for about 36 percent. Men's trip duration was more than twice that of women, and those born in 1989, aged 30 to 31, had the highest sum of trip duration compared to other ages. "
   ]
  },
  {
   "cell_type": "markdown",
   "metadata": {},
   "source": [
    "## Findings 3\n",
    "### The Most Frequently Used Start and End Stations "
   ]
  },
  {
   "cell_type": "markdown",
   "metadata": {},
   "source": [
    "![](3.png)"
   ]
  },
  {
   "cell_type": "markdown",
   "metadata": {},
   "source": [
    "From the both 10 most frequntly used start and stations data, 9 of the 10 most used stations appeared on both sides. This shows that many people end their trip where they first started. The most frequently used station is Grove St PATH, and Washington St and Citi Hall were found to be the 10 most frequently used stations, except for the nine overlapping stations."
   ]
  },
  {
   "cell_type": "code",
   "execution_count": null,
   "metadata": {},
   "outputs": [],
   "source": []
  }
 ],
 "metadata": {
  "kernelspec": {
   "display_name": "Python 3",
   "language": "python",
   "name": "python3"
  },
  "language_info": {
   "codemirror_mode": {
    "name": "ipython",
    "version": 3
   },
   "file_extension": ".py",
   "mimetype": "text/x-python",
   "name": "python",
   "nbconvert_exporter": "python",
   "pygments_lexer": "ipython3",
   "version": "3.7.3"
  }
 },
 "nbformat": 4,
 "nbformat_minor": 2
}
